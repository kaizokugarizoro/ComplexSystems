{
 "cells": [
  {
   "cell_type": "code",
   "execution_count": 55,
   "metadata": {},
   "outputs": [],
   "source": [
    "import numpy as np\n",
    "import matplotlib.pyplot as plt\n",
    "from timeit import default_timer as timer\n",
    "import random\n",
    "import cmath\n",
    "\n",
    "def pdf_lorentz(a,x):            # Lorentzian Probability Distribution\n",
    "    y=a/(x**2+a**2)\n",
    "    return y\n",
    "\n",
    "def omega_list(no_of_osc):           # To generate a lorentzian weighted distribution of w.\n",
    "    N=0 \n",
    "    a=1\n",
    "    x_list=[]\n",
    "    y_list=[]\n",
    "\n",
    "    while(N!=no_of_osc):\n",
    "        x=random.uniform(-8,8)   # Generate a uniform random number between some apt finite range of x.\n",
    "        y=random.uniform(0,1)    # Generate a uniform random number between 0 and y_max\n",
    "        if(pdf_lorentz(a,x)>y):      # if the random y value < pdf(x), then accept that point.\n",
    "            x_list.append(x)\n",
    "            N=N+1\n",
    "    x_list=np.array(x_list)\n",
    "    return x_list\n",
    "\n",
    "def rpsi(theta_list):                 # to find r(t) and psi(t) for a given time t.\n",
    "    order_sum=0\n",
    "    for theta in theta_list:\n",
    "        power=complex(0,theta)         # power= i*theta\n",
    "        exponential=cmath.exp(power)   # exponential= exp(i*theta)\n",
    "        order_sum=order_sum+exponential\n",
    "            \n",
    "    z=(order_sum)/len(theta_list)\n",
    "    r=abs(z)\n",
    "    psi=cmath.phase(z)\n",
    "        \n",
    "    return r,psi\n",
    "\n",
    "def theta_dot(theta_list,w_list,k,r,psi):   # Calculating the list of theta_dot's at time t.\n",
    "    theta_dot_list=np.zeros(len(theta_list), dtype=float)\n",
    "    for i in range(len(theta_list)):\n",
    "        theta_dot=w_list[i] + k*r*np.sin(psi-theta_list[i])\n",
    "        theta_dot_list[i]+=theta_dot\n",
    "        \n",
    "    return theta_dot_list\n",
    "\n",
    "def evolution(theta_list,theta_dot_list,dt):   # Integration function for theta_i's\n",
    "    new_theta_list=np.zeros(len(theta_list), dtype=float)\n",
    "    for i in range(len(theta_list)):\n",
    "        new_theta=theta_list[i] + theta_dot_list[i]*dt\n",
    "        new_theta_list[i]+=new_theta\n",
    "    return new_theta_list\n",
    "\n",
    "def random_theta_i(N):\n",
    "    anglelist=np.zeros(N, dtype=float)\n",
    "    for i in range(N):\n",
    "        theta=random.random()*2*np.pi\n",
    "        anglelist[i]+=theta\n",
    "    return anglelist"
   ]
  },
  {
   "cell_type": "code",
   "execution_count": 81,
   "metadata": {},
   "outputs": [
    {
     "name": "stdout",
     "output_type": "stream",
     "text": [
      "Runtime=  99.00003029999971  secs\n"
     ]
    },
    {
     "data": {
      "text/plain": [
       "[<matplotlib.lines.Line2D at 0x14fed5684c8>]"
      ]
     },
     "execution_count": 81,
     "metadata": {},
     "output_type": "execute_result"
    },
    {
     "data": {
      "image/png": "[encoded data removed]",
      "text/plain": [
       "<Figure size 432x288 with 1 Axes>"
      ]
     },
     "metadata": {
      "needs_background": "light"
     },
     "output_type": "display_data"
    }
   ],
   "source": [
    "dt=10**(-3)           # delta t\n",
    "k=2.5                   # Coupling Constant K\n",
    "time_steps=2*(10**4)      # Number of Time Steps\n",
    "N=10**3               # Number of Oscillators\n",
    "rlist=np.zeros(time_steps, dtype=float)\n",
    "\n",
    "w_list=omega_list(N)               # Initial Distribution of angular frequencies.\n",
    "theta_list=random_theta_i(N)   # Initial Random Distribution of Phases.\n",
    "\n",
    "start = timer()\n",
    "for t in range(time_steps):\n",
    "    r,psi=rpsi(theta_list)\n",
    "    theta_dot_list=theta_dot(theta_list,w_list,k,r,psi)\n",
    "    theta_list=evolution(theta_list,theta_dot_list,dt)      # New theta Phase list.\n",
    "    rlist[t]+=r\n",
    "end = timer()\n",
    "print(\"Runtime= \", end-start, \" secs\")\n",
    "plt.plot(np.arange(time_steps)*dt,rlist)\n",
    "plt.grid(True)"
   ]
  },
  {
   "cell_type": "code",
   "execution_count": null,
   "metadata": {},
   "outputs": [],
   "source": []
  }
 ],
 "metadata": {
  "kernelspec": {
   "display_name": "Python 3",
   "language": "python",
   "name": "python3"
  },
  "language_info": {
   "codemirror_mode": {
    "name": "ipython",
    "version": 3
   },
   "file_extension": ".py",
   "mimetype": "text/x-python",
   "name": "python",
   "nbconvert_exporter": "python",
   "pygments_lexer": "ipython3",
   "version": "3.7.6"
  }
 },
 "nbformat": 4,
 "nbformat_minor": 4
}
