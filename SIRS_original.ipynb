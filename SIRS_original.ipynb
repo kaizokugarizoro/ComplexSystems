{
 "cells": [
  {
   "cell_type": "code",
   "execution_count": 23,
   "metadata": {},
   "outputs": [],
   "source": [
    "# SIRS Model, with custom radius r, a Moore neighbourhood, starting with a single infectious seed.\n",
    "# and added a lockdown mechanism to reduce the radius of spread from r to 1. Since setting it to 0\n",
    "# generates overly idealistic situations, I set the lockdown radius to 1 with a \"lockdown factor\"\n",
    "# which can be varied between 0 and 1 (which is multiplied to prob of infection spread).\n",
    "# 0=>strict lockdown, no contacts, hence it dies out quickly. 1=> radius=1 and infection spreads accordingly."
   ]
  },
  {
   "cell_type": "code",
   "execution_count": 24,
   "metadata": {},
   "outputs": [],
   "source": [
    "import numpy as np\n",
    "from timeit import default_timer as timer\n",
    "from colour import Color\n",
    "from matplotlib import colors\n",
    "import matplotlib.animation as animation\n",
    "import matplotlib.pyplot as plt\n",
    "import gif\n",
    "\n",
    "#CUSTOM CMAP\n",
    "def customcmap(t_i, t_r):\n",
    "    s = Color(\"#f5ebeb\")\n",
    "    i1 = Color(\"#5e0202\")\n",
    "    i2 = Color(\"#e81717\")\n",
    "    r1 = Color(\"#e8c917\")\n",
    "    r2 = Color(\"#e8db90\")\n",
    "    clist = [s] + list(i1.range_to(i2, t_i)) + list(r1.range_to(r2, t_r))\n",
    "    clist = [c.hex for c in clist]\n",
    "    \n",
    "    return colors.ListedColormap(clist)\n",
    "\n",
    "\n",
    "#PROPOGATOR FUNCTION\n",
    "def propogator(tau_t,x_dim,y_dim,t_i,t_r,det_prob,r,w_sum,bc_r,lf):  #lf is lockdown factor, bc_r is boundar condition radius\n",
    "    #looping through all the blocks (except the boundaries)\n",
    "    \n",
    "    t=tau_t.copy()  #use .copy() to prevent simaltaneous changes in both t and tau_t\n",
    "    count=0\n",
    "    \n",
    "    for i in np.arange(r,x_dim+bc_r):\n",
    "        for j in np.arange(r,y_dim+bc_r):\n",
    "            \n",
    "            #for susceptible individuals (Using MOORE Neighbourhood)\n",
    "            if(tau_t[i][j]==0):    \n",
    "                count=0\n",
    "                probability=0   \n",
    "                \n",
    "                for k in np.arange(-r,r+1):\n",
    "                    for l in np.arange(-r,r+1):\n",
    "                        if(1<=tau_t[i+k][j+l]<=t_i and (k,l)!=(0,0)):\n",
    "                            w=max(abs(k),abs(l)) #weight of each cell\n",
    "                            count=count+(r-(w-1))\n",
    "                \n",
    "                probability=(count/w_sum)*lf\n",
    "                x=np.random.random()\n",
    "                if(x<=probability*det_prob): #if det_prob=8, even a single infected neighbour can infect, for det_prob=1, we get the standard probabilistic model.\n",
    "                    t[i][j]=1\n",
    "                \n",
    "            #for infected and refractory\n",
    "            elif(1<=tau_t[i][j]<t_i+t_r):\n",
    "                t[i][j]=t[i][j]+1\n",
    "                \n",
    "            #last stage (tau_0----->0)\n",
    "            elif(tau_t[i][j]==t_i+t_r):\n",
    "                t[i][j]=0\n",
    "    #BOUNDARY CONDITIONS (just recovered after getting infected)\n",
    "    i=0\n",
    "    for i in range(bc_r):                 #All borders of width = (radius) are fixed boundaries.\n",
    "        t[:,i]=t_i+1\n",
    "        t[i,:]=t_i+1\n",
    "        t[:,y_dim+(2*bc_r-(i+1))]=t_i+1\n",
    "        t[x_dim+(2*bc_r-(i+1)),:]=t_i+1\n",
    "    \n",
    "    return t\n",
    "\n",
    "\n",
    "#for counting number of infected, refractory and susceptible individuals \n",
    "def datastats(state,x_dim, y_dim, t_i,t_r,r):\n",
    "    inf=0\n",
    "    ref=0\n",
    "    sus=0\n",
    "    for i in np.arange(r,x_dim+r):\n",
    "        for j in np.arange(r,y_dim+r):\n",
    "            if (state[i][j]==0):\n",
    "                sus=sus+1\n",
    "            if (1<=state[i][j]<=t_i):\n",
    "                inf=inf+1\n",
    "            if ((t_i+1)<=state[i][j]<=(t_i+t_r)):\n",
    "                ref=ref+1\n",
    "    \n",
    "    return sus,inf,ref \n",
    "            \n",
    "    "
   ]
  },
  {
   "cell_type": "code",
   "execution_count": 25,
   "metadata": {},
   "outputs": [],
   "source": [
    "# (FOR A MIXED INITIAL POPULATION OF SUSCEPTIBLE AND INFECTED PEOPLE)\n",
    "\n",
    "#INITIAL CONDITIONS\n",
    "\n",
    "\n",
    "#Distribution of Initial Population\n",
    "\n",
    "#p=0.00      # INITIAL FRACTION OF INFECTION\n",
    "\n",
    "#tau_list=np.zeros(((x_dim + 2)*(y_dim + 2)), dtype=int)  \n",
    "\n",
    "#for k in range ((x_dim + 2)*(y_dim + 2)):\n",
    "#    rand=np.random.random()\n",
    "#    if(0<=rand<p):\n",
    "#        tau_list[k]=tau_list[k]+1\n",
    "#    elif(p<=rand<=1):\n",
    "#        tau_list[k]=tau_list[k]+0\n"
   ]
  },
  {
   "cell_type": "code",
   "execution_count": 26,
   "metadata": {},
   "outputs": [],
   "source": [
    "#Randomly distributed initial population with only susceptible and refractory at different stages. Only one infected in the middle.\n",
    "#leads to persisting infection waves.\n",
    "\n",
    "\n",
    "#MAIN PROGRAM\n",
    "\n",
    "#parameters\n",
    "\n",
    "radius=3\n",
    "lockdown_factor=0.25\n",
    "det_prob=1   #Deterministic((2*radius+1)**2 -1) or Probablistic(1) Automata\n",
    "t_i=4                           # 1<=t<=t_i is the infected range\n",
    "t_r=7                           # t_i+1<=t<=t_i+t_r is the refractory range\n",
    "x_dim=100\n",
    "y_dim=100\n",
    "time=200\n",
    "cmap = customcmap(t_i, t_r)\n",
    "\n",
    "\n",
    "#total weight due to r!=1\n",
    "weight_sum=0\n",
    "for a in np.arange(1,radius+1):\n",
    "    weight_sum = weight_sum + ((radius-(a-1))*(8*a))\n",
    "\n",
    "#INITIAL CONDITIONS\n",
    "\n",
    "\n",
    "#Distribution of Initial Population\n",
    "\n",
    "tau_list=np.zeros(((x_dim + 2*radius)*(y_dim + 2*radius)), dtype=int)  \n",
    "p_ref=0.5  #initial percentage of refractory population\n",
    "\n",
    "#for k in range ((x_dim + 2*radius)*(y_dim + 2*radius)):\n",
    "#    rand=(np.random.random())\n",
    "#    if(0<=rand<=p_ref):\n",
    "#        rand2=int(np.random.randint(low=1,high=7))\n",
    "#        tau_list[k]=tau_list[k]+rand2+t_i\n",
    "    \n",
    "tau=np.reshape(tau_list,(x_dim+2*radius,y_dim+2*radius))\n",
    "\n",
    "\n",
    "#BOUNDARY CONDITIONS \n",
    "i=0\n",
    "for i in range(radius):                 #All borders of width = (radius) are fixed boundaries.\n",
    "    tau[:,i]=t_i+1\n",
    "    tau[i,:]=t_i+1\n",
    "    tau[:,y_dim+(2*radius-(i+1))]=t_i+1\n",
    "    tau[x_dim+(2*radius-(i+1)),:]=t_i+1\n",
    "\n",
    "tau[(x_dim+2*radius)//3,(y_dim+2*radius)//3]=1     #single infection in the middle\n"
   ]
  },
  {
   "cell_type": "code",
   "execution_count": 27,
   "metadata": {},
   "outputs": [
    {
     "name": "stderr",
     "output_type": "stream",
     "text": [
      "MovieWriter imagemagick unavailable; trying to use <class 'matplotlib.animation.PillowWriter'> instead.\n"
     ]
    },
    {
     "data": {
      "image/png": "[encoded data removed]",
      "text/plain": [
       "<Figure size 432x288 with 2 Axes>"
      ]
     },
     "metadata": {
      "needs_background": "light"
     },
     "output_type": "display_data"
    }
   ],
   "source": [
    "suslist=[]\n",
    "inflist=[]\n",
    "reflist=[]\n",
    "tarray=np.arange(time)\n",
    "\n",
    "start = timer()\n",
    "fig=plt.figure()\n",
    "state=tau.copy()\n",
    "sus,inf,ref=datastats(state, x_dim, y_dim, t_i, t_r, radius)\n",
    "suslist.append(sus)\n",
    "inflist.append(inf)\n",
    "reflist.append(ref)\n",
    "plt.colorbar(plt.imshow(state, cmap=cmap, interpolation = 'nearest', vmin = 0, vmax = t_i+t_r))\n",
    "ims=[] \n",
    "im=plt.imshow(state, animated=True, cmap = cmap, vmin = 0, vmax = t_i+t_r)\n",
    "ims.append([im])\n",
    "t=1\n",
    "while(t<time):\n",
    "    x=0  \n",
    "    if(inf>=1500):\n",
    "        while(x<20 and t<time):\n",
    "            state_new=propogator(state,x_dim,y_dim,t_i,t_r,det_prob,1,8,radius,lockdown_factor)\n",
    "            state=state_new.copy()\n",
    "            sus,inf,ref=datastats(state, x_dim, y_dim, t_i, t_r, 1)\n",
    "            suslist.append(sus)\n",
    "            inflist.append(inf)\n",
    "            reflist.append(ref)\n",
    "            im=plt.imshow(state, animated=True, cmap = cmap, vmin = 0, vmax = t_i+t_r)\n",
    "            ims.append([im])      \n",
    "            x=x+1\n",
    "            t=t+1\n",
    "    else:\n",
    "        state_new=propogator(state,x_dim,y_dim,t_i,t_r,det_prob,radius,weight_sum,radius,1)\n",
    "        state=state_new.copy()\n",
    "        sus,inf,ref=datastats(state, x_dim, y_dim, t_i, t_r, radius)\n",
    "        suslist.append(sus)\n",
    "        inflist.append(inf)\n",
    "        reflist.append(ref)\n",
    "        im=plt.imshow(state, animated=True, cmap = cmap, vmin = 0, vmax = t_i+t_r)\n",
    "        ims.append([im])      \n",
    "        t=t+1\n",
    "        \n",
    "ani=animation.ArtistAnimation(fig, ims, interval=50, blit=True, repeat_delay=1000)\n",
    "ani.save('SIRSmodel_lockdown_1500 peak_20days.gif', writer='imagemagick', fps=5)\n",
    "#check for changes on github\n",
    "end = timer()\n"
   ]
  },
  {
   "cell_type": "code",
   "execution_count": 28,
   "metadata": {},
   "outputs": [
    {
     "name": "stdout",
     "output_type": "stream",
     "text": [
      "Runtime   260.3223771000048\n",
      "200 200 200\n"
     ]
    },
    {
     "data": {
      "image/png": "[encoded data removed]",
      "text/plain": [
       "<Figure size 432x288 with 1 Axes>"
      ]
     },
     "metadata": {
      "needs_background": "light"
     },
     "output_type": "display_data"
    },
    {
     "name": "stdout",
     "output_type": "stream",
     "text": [
      "Susceptible = 9821\n",
      "Infected = 147\n",
      "Refractory = 32\n"
     ]
    }
   ],
   "source": [
    "print(\"Runtime  \",end-start)\n",
    "print(len(inflist),len(suslist),len(reflist))\n",
    "\n",
    "plt.plot(tarray, suslist,'#2ce8c9', label=\"Susceptible\")\n",
    "plt.plot(tarray, inflist,'#f74a4a', label=\"Infected\")\n",
    "plt.plot(tarray, reflist,'#ffd000', label=\"Refractory\")\n",
    "plt.legend(loc=\"upper right\")\n",
    "plt.grid(True)\n",
    "plt.show()\n",
    "print(\"Susceptible =\", suslist[time-1])\n",
    "print(\"Infected =\", inflist[time-1])\n",
    "print(\"Refractory =\", reflist[time-1])"
   ]
  }
 ],
 "metadata": {
  "kernelspec": {
   "display_name": "Python 3",
   "language": "python",
   "name": "python3"
  },
  "language_info": {
   "codemirror_mode": {
    "name": "ipython",
    "version": 3
   },
   "file_extension": ".py",
   "mimetype": "text/x-python",
   "name": "python",
   "nbconvert_exporter": "python",
   "pygments_lexer": "ipython3",
   "version": "3.7.6"
  }
 },
 "nbformat": 4,
 "nbformat_minor": 4
}
