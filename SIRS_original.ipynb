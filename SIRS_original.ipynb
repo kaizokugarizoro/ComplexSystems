{
 "cells": [
  {
   "cell_type": "code",
   "execution_count": 1,
   "metadata": {},
   "outputs": [],
   "source": [
    "import numpy as np\n",
    "from colour import Color\n",
    "from matplotlib import colors\n",
    "import matplotlib.animation as animation\n",
    "import matplotlib.pyplot as plt\n",
    "import gif\n",
    "\n",
    "#CUSTOM CMAP\n",
    "def customcmap(t_i, t_r):\n",
    "    s = Color(\"#f5ebeb\")\n",
    "    i1 = Color(\"#5e0202\")\n",
    "    i2 = Color(\"#e81717\")\n",
    "    r1 = Color(\"#e8c917\")\n",
    "    r2 = Color(\"#e8db90\")\n",
    "    clist = [s] + list(i1.range_to(i2, t_i - 1)) + list(r1.range_to(r2, t_r))\n",
    "    clist = [c.hex for c in clist]\n",
    "    \n",
    "    return colors.ListedColormap(clist)\n",
    "\n",
    "\n",
    "#PROPOGATOR FUNCTION\n",
    "def propogator(tau,x_dim,y_dim,t_i,t_r):\n",
    "    #looping through all the blocks\n",
    "    t=tau\n",
    "    for i in np.arange(1,x_dim+1):\n",
    "        for j in np.arange(1,y_dim+1):\n",
    "            #for susceptible individuals (Using Moore Neighbourhood)\n",
    "            if(t[i][j]==0):    \n",
    "                count=0\n",
    "                probability=0    \n",
    "                if(1<=t[i-1][j]<=4):\n",
    "                    count=count+1\n",
    "                if(1<=t[i][j-1]<=4):\n",
    "                    count=count+1\n",
    "                if(1<=t[i+1][j]<=4):\n",
    "                    count=count+1\n",
    "                if(1<=t[i][j+1]<=4):\n",
    "                    count=count+1\n",
    "                if(1<=t[i-1][j-1]<=4):\n",
    "                    count=count+1\n",
    "                if(1<=t[i-1][j+1]<=4):\n",
    "                    count=count+1\n",
    "                if(1<=t[i+1][j+1]<=4):\n",
    "                    count=count+1\n",
    "                if(1<=t[i+1][j-1]<=4):\n",
    "                    count=count+1\n",
    "\n",
    "                probability=count/8\n",
    "                x=np.random.random()\n",
    "                if(x<=probability):\n",
    "                    t[i][j]=1\n",
    "                \n",
    "            #for infected and refractory\n",
    "            elif(1<=t[i][j]<t_i+t_r):\n",
    "                t[i][j]=t[i][j]+1\n",
    "                \n",
    "            #last stage \n",
    "            elif(t[i][j]==t_i+t_r):\n",
    "                t[i][j]=0\n",
    "    #BOUNDARY CONDITIONS\n",
    "    t[:,0]=t_r\n",
    "    t[0,:]=t_r\n",
    "    t[:,x_dim+1]=t_r\n",
    "    t[y_dim+1,:]=t_r\n",
    "    \n",
    "    return t\n"
   ]
  },
  {
   "cell_type": "code",
   "execution_count": 2,
   "metadata": {},
   "outputs": [
    {
     "name": "stderr",
     "output_type": "stream",
     "text": [
      "MovieWriter imagemagick unavailable; trying to use <class 'matplotlib.animation.PillowWriter'> instead.\n"
     ]
    },
    {
     "data": {
      "image/png": "[encoded data removed]",
      "text/plain": [
       "<Figure size 432x288 with 2 Axes>"
      ]
     },
     "metadata": {
      "needs_background": "light"
     },
     "output_type": "display_data"
    }
   ],
   "source": [
    "#MAIN PROGRAM\n",
    "#parameters\n",
    "t_i=4\n",
    "t_r=7\n",
    "x_dim=100\n",
    "y_dim=100\n",
    "time=100\n",
    "cmap = customcmap(t_i, t_r)\n",
    "\n",
    "#------INITIAL CONDITIONS-----------------#\n",
    "#Distribution of Initial Population\n",
    "\n",
    "p=0.001                                             #initial percentage of infected individuals \n",
    "tau_list=np.zeros(((x_dim + 2)*(y_dim + 2)), dtype=int)     \n",
    "for k in range ((x_dim + 2)*(y_dim + 2)):\n",
    "    rand=np.random.random()\n",
    "    if(0<=rand<p):\n",
    "        tau_list[k]=tau_list[k]+1\n",
    "    elif(p<=rand<=1):\n",
    "        tau_list[k]=tau_list[k]+0\n",
    "    \n",
    "tau=np.reshape(tau_list,(x_dim+2,y_dim+2))\n",
    "tau[:,0]=t_r\n",
    "tau[0,:]=t_r\n",
    "tau[:,x_dim+1]=t_r\n",
    "tau[y_dim+1,:]=t_r\n",
    "\n",
    "#-------------------------------------------#\n",
    "fig=plt.figure()\n",
    "state=tau\n",
    "plt.colorbar(plt.imshow(state, cmap=cmap, interpolation = 'nearest', vmin = 0, vmax = t_i+t_r))\n",
    "ims=[] \n",
    "im=plt.imshow(state, animated=True, cmap = cmap, vmin = 0, vmax = t_i+t_r)\n",
    "ims.append([im])\n",
    "for t in range(time):\n",
    "    state_new=propogator(state,x_dim,y_dim,t_i+t_r,t_r)\n",
    "    state=state_new\n",
    "    if(t%1==0):\n",
    "        im=plt.imshow(state, animated=True, cmap = cmap, vmin = 0, vmax = t_i+t_r)\n",
    "        ims.append([im])\n",
    "\n",
    "ani=animation.ArtistAnimation(fig, ims, interval=50, blit=True, repeat_delay=1000)\n",
    "ani.save('SIRSmodel.gif', writer='imagemagick', fps=5)\n",
    "plt.show()\n",
    "\n",
    "#check for changes on github\n"
   ]
  },
  {
   "cell_type": "code",
   "execution_count": null,
   "metadata": {},
   "outputs": [],
   "source": []
  },
  {
   "cell_type": "code",
   "execution_count": null,
   "metadata": {},
   "outputs": [],
   "source": []
  }
 ],
 "metadata": {
  "kernelspec": {
   "display_name": "Python 3",
   "language": "python",
   "name": "python3"
  },
  "language_info": {
   "codemirror_mode": {
    "name": "ipython",
    "version": 3
   },
   "file_extension": ".py",
   "mimetype": "text/x-python",
   "name": "python",
   "nbconvert_exporter": "python",
   "pygments_lexer": "ipython3",
   "version": "3.7.6"
  }
 },
 "nbformat": 4,
 "nbformat_minor": 4
}
