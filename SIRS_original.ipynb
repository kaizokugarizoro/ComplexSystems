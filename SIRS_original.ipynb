{
 "cells": [
  {
   "cell_type": "code",
   "execution_count": 120,
   "metadata": {},
   "outputs": [],
   "source": [
    "import numpy as np\n",
    "from colour import Color\n",
    "from matplotlib import colors\n",
    "import matplotlib.animation as animation\n",
    "import matplotlib.pyplot as plt\n",
    "import gif\n",
    "\n",
    "#CUSTOM CMAP\n",
    "def customcmap(t_i, t_r):\n",
    "    s = Color(\"#f5ebeb\")\n",
    "    i1 = Color(\"#5e0202\")\n",
    "    i2 = Color(\"#e81717\")\n",
    "    r1 = Color(\"#e8c917\")\n",
    "    r2 = Color(\"#e8db90\")\n",
    "    clist = [s] + list(i1.range_to(i2, t_i - 1)) + list(r1.range_to(r2, t_r))\n",
    "    clist = [c.hex for c in clist]\n",
    "    \n",
    "    return colors.ListedColormap(clist)\n",
    "\n",
    "\n",
    "#PROPOGATOR FUNCTION\n",
    "def propogator(tau_t,x_dim,y_dim,t_i,t_r,det_prob):\n",
    "    #looping through all the blocks (except the boundaries)\n",
    "    t=tau_t.copy()  #use .copy() to prevent simaltaneous changes in both t and tau_t\n",
    "    count=0\n",
    "    for i in np.arange(1,x_dim+1):\n",
    "        for j in np.arange(1,y_dim+1):\n",
    "            #for susceptible individuals (Using MOORE Neighbourhood)\n",
    "            if(tau_t[i][j]==0):    \n",
    "                count=0\n",
    "                probability=0    \n",
    "                if(1<=tau_t[i-1][j]<=t_i): #any infected cell with t between 1 and t_i infects others by adding a count\n",
    "                    count=count+1\n",
    "                if(1<=tau_t[i][j-1]<=t_i):\n",
    "                    count=count+1\n",
    "                if(1<=tau_t[i+1][j]<=t_i):\n",
    "                    count=count+1\n",
    "                if(1<=tau_t[i][j+1]<=t_i):\n",
    "                    count=count+1\n",
    "                if(1<=tau_t[i-1][j-1]<=t_i):\n",
    "                    count=count+1\n",
    "                if(1<=tau_t[i-1][j+1]<=t_i):\n",
    "                    count=count+1\n",
    "                if(1<=tau_t[i+1][j+1]<=t_i):\n",
    "                    count=count+1\n",
    "                if(1<=tau_t[i+1][j-1]<=t_i):\n",
    "                    count=count+1\n",
    "\n",
    "                probability=count/8\n",
    "                x=np.random.random()\n",
    "                if(x<=probability*det_prob): #if det_prob=8, even a single infected neighbour can infect, for det_prob=1, we get the standard probabilistic model.\n",
    "                    t[i][j]=1\n",
    "                \n",
    "            #for infected and refractory\n",
    "            elif(1<=tau_t[i][j]<t_i+t_r):\n",
    "                t[i][j]=t[i][j]+1\n",
    "                \n",
    "            #last stage (tau_0----->0)\n",
    "            elif(tau_t[i][j]==t_i+t_r):\n",
    "                t[i][j]=0\n",
    "    #BOUNDARY CONDITIONS (just recovered after getting infected)\n",
    "    t[:,0]=t_i+1\n",
    "    t[0,:]=t_i+1\n",
    "    t[:,x_dim+1]=t_i+1\n",
    "    t[y_dim+1,:]=t_i+1\n",
    "    \n",
    "    return t\n"
   ]
  },
  {
   "cell_type": "code",
   "execution_count": 121,
   "metadata": {},
   "outputs": [
    {
     "name": "stderr",
     "output_type": "stream",
     "text": [
      "MovieWriter imagemagick unavailable; trying to use <class 'matplotlib.animation.PillowWriter'> instead.\n"
     ]
    },
    {
     "data": {
      "image/png": "[encoded data removed]",
      "text/plain": [
       "<Figure size 432x288 with 2 Axes>"
      ]
     },
     "metadata": {
      "needs_background": "light"
     },
     "output_type": "display_data"
    }
   ],
   "source": [
    "#MAIN PROGRAM\n",
    "#parameters\n",
    "det_prob=8 #Deterministic(1) or Probablistic(0) Automata\n",
    "t_i=4                        # 1<=t<=t_i is the infected range\n",
    "t_r=7                        # t_i+1<=t<=t_i+t_r is the refractory range\n",
    "x_dim=100\n",
    "y_dim=100\n",
    "time=80\n",
    "cmap = customcmap(t_i, t_r)\n",
    "\n",
    "#------INITIAL CONDITIONS-----------------#\n",
    "#Distribution of Initial Population\n",
    "\n",
    "p=0.001  #initial percentage of infected individuals \n",
    "tau_list=np.zeros(((x_dim + 2)*(y_dim + 2)), dtype=int)     \n",
    "for k in range ((x_dim + 2)*(y_dim + 2)):\n",
    "    rand=np.random.random()\n",
    "    if(0<=rand<p):\n",
    "        tau_list[k]=tau_list[k]+1\n",
    "    elif(p<=rand<=1):\n",
    "        tau_list[k]=tau_list[k]+0\n",
    "    \n",
    "tau=np.reshape(tau_list,(x_dim+2,y_dim+2))\n",
    "#BOUNDARY CONDITIONS (just recovered after getting infected)\n",
    "tau[:,0]=t_i+1\n",
    "tau[0,:]=t_i+1\n",
    "tau[:,x_dim+1]=t_i+1\n",
    "tau[y_dim+1,:]=t_i+1\n",
    "\n",
    "#-------------------------------------------#\n",
    "fig=plt.figure()\n",
    "state=tau.copy()\n",
    "plt.colorbar(plt.imshow(state, cmap=cmap, interpolation = 'nearest', vmin = 0, vmax = t_i+t_r))\n",
    "ims=[] \n",
    "im=plt.imshow(state, animated=True, cmap = cmap, vmin = 0, vmax = t_i+t_r)\n",
    "ims.append([im])\n",
    "for t in range(time):\n",
    "    state_new=propogator(state,x_dim,y_dim,t_i,t_r,det_prob)\n",
    "    state=state_new.copy()\n",
    "    if(t%1==0):\n",
    "        im=plt.imshow(state, animated=True, cmap = cmap, vmin = 0, vmax = t_i+t_r)\n",
    "        ims.append([im])\n",
    "\n",
    "ani=animation.ArtistAnimation(fig, ims, interval=50, blit=True, repeat_delay=1000)\n",
    "ani.save('SIRSmodel_det.gif', writer='imagemagick', fps=7)\n",
    "plt.show()\n",
    "#check for changes on github\n"
   ]
  }
 ],
 "metadata": {
  "kernelspec": {
   "display_name": "Python 3",
   "language": "python",
   "name": "python3"
  },
  "language_info": {
   "codemirror_mode": {
    "name": "ipython",
    "version": 3
   },
   "file_extension": ".py",
   "mimetype": "text/x-python",
   "name": "python",
   "nbconvert_exporter": "python",
   "pygments_lexer": "ipython3",
   "version": "3.7.6"
  }
 },
 "nbformat": 4,
 "nbformat_minor": 4
}
