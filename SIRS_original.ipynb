{
 "cells": [
  {
   "cell_type": "code",
   "execution_count": 66,
   "metadata": {},
   "outputs": [],
   "source": [
    "import numpy as np\n",
    "from timeit import default_timer as timer\n",
    "from colour import Color\n",
    "from matplotlib import colors\n",
    "import matplotlib.animation as animation\n",
    "import matplotlib.pyplot as plt\n",
    "import gif\n",
    "\n",
    "#CUSTOM CMAP\n",
    "def customcmap(t_i, t_r):\n",
    "    s = Color(\"#f5ebeb\")\n",
    "    i1 = Color(\"#5e0202\")\n",
    "    i2 = Color(\"#e81717\")\n",
    "    r1 = Color(\"#e8c917\")\n",
    "    r2 = Color(\"#e8db90\")\n",
    "    clist = [s] + list(i1.range_to(i2, t_i)) + list(r1.range_to(r2, t_r))\n",
    "    clist = [c.hex for c in clist]\n",
    "    \n",
    "    return colors.ListedColormap(clist)\n",
    "\n",
    "\n",
    "#PROPOGATOR FUNCTION\n",
    "def propogator(tau_t,x_dim,y_dim,t_i,t_r,det_prob,r,w_sum):\n",
    "    #looping through all the blocks (except the boundaries)\n",
    "    \n",
    "    t=tau_t.copy()  #use .copy() to prevent simaltaneous changes in both t and tau_t\n",
    "    count=0\n",
    "    \n",
    "    for i in np.arange(r,x_dim+r):\n",
    "        for j in np.arange(r,y_dim+r):\n",
    "            \n",
    "            #for susceptible individuals (Using MOORE Neighbourhood)\n",
    "            if(tau_t[i][j]==0):    \n",
    "                count=0\n",
    "                probability=0   \n",
    "                \n",
    "                for k in np.arange(-r,r+1):\n",
    "                    for l in np.arange(-r,r+1):\n",
    "                        if(1<=tau_t[i+k][j+l]<=t_i and (k,l)!=(0,0)):\n",
    "                            w=max(abs(k),abs(l)) #weight of each cell\n",
    "                            count=count+(r-(w-1))\n",
    "                \n",
    "                probability=count/w_sum\n",
    "                x=np.random.random()\n",
    "                if(x<=probability*det_prob): #if det_prob=8, even a single infected neighbour can infect, for det_prob=1, we get the standard probabilistic model.\n",
    "                    t[i][j]=1\n",
    "                \n",
    "            #for infected and refractory\n",
    "            elif(1<=tau_t[i][j]<t_i+t_r):\n",
    "                t[i][j]=t[i][j]+1\n",
    "                \n",
    "            #last stage (tau_0----->0)\n",
    "            elif(tau_t[i][j]==t_i+t_r):\n",
    "                t[i][j]=0\n",
    "    #BOUNDARY CONDITIONS (just recovered after getting infected)\n",
    "    i=0\n",
    "    for i in range(r):                 #All borders of width = (radius) are fixed boundaries.\n",
    "        t[:,i]=t_i+1\n",
    "        t[i,:]=t_i+1\n",
    "        t[:,y_dim+(2*r-(i+1))]=t_i+1\n",
    "        t[x_dim+(2*r-(i+1)),:]=t_i+1\n",
    "    \n",
    "    return t\n",
    "\n",
    "\n",
    "#for counting number of infected, refractory and susceptible individuals \n",
    "def datastats(state,x_dim, y_dim, t_i,t_r,r):\n",
    "    inf=0\n",
    "    ref=0\n",
    "    sus=0\n",
    "    for i in np.arange(r,x_dim+r):\n",
    "        for j in np.arange(r,y_dim+r):\n",
    "            if (state[i][j]==0):\n",
    "                sus=sus+1\n",
    "            if (1<=state[i][j]<=t_i):\n",
    "                inf=inf+1\n",
    "            if ((t_i+1)<=state[i][j]<=(t_i+t_r)):\n",
    "                ref=ref+1\n",
    "    \n",
    "    return sus,inf,ref \n",
    "            \n",
    "    "
   ]
  },
  {
   "cell_type": "code",
   "execution_count": 67,
   "metadata": {},
   "outputs": [],
   "source": [
    "# (FOR A MIXED INITIAL POPULATION OF SUSCEPTIBLE AND INFECTED PEOPLE)\n",
    "\n",
    "#INITIAL CONDITIONS\n",
    "\n",
    "\n",
    "#Distribution of Initial Population\n",
    "\n",
    "#p=0.00      # INITIAL FRACTION OF INFECTION\n",
    "\n",
    "#tau_list=np.zeros(((x_dim + 2)*(y_dim + 2)), dtype=int)  \n",
    "\n",
    "#for k in range ((x_dim + 2)*(y_dim + 2)):\n",
    "#    rand=np.random.random()\n",
    "#    if(0<=rand<p):\n",
    "#        tau_list[k]=tau_list[k]+1\n",
    "#    elif(p<=rand<=1):\n",
    "#        tau_list[k]=tau_list[k]+0\n"
   ]
  },
  {
   "cell_type": "code",
   "execution_count": 96,
   "metadata": {},
   "outputs": [],
   "source": [
    "#Randomly distributed initial population with only susceptible and refractory at different stages. Only one infected in the middle.\n",
    "#leads to persisting infection waves.\n",
    "\n",
    "\n",
    "#MAIN PROGRAM\n",
    "\n",
    "#parameters\n",
    "\n",
    "radius=1\n",
    "det_prob=1   #Deterministic((2*radius+1)**2 -1) or Probablistic(1) Automata\n",
    "t_i=4                           # 1<=t<=t_i is the infected range\n",
    "t_r=7                           # t_i+1<=t<=t_i+t_r is the refractory range\n",
    "x_dim=100\n",
    "y_dim=100\n",
    "time=100\n",
    "cmap = customcmap(t_i, t_r)\n",
    "suslist=[]\n",
    "inflist=[]\n",
    "reflist=[]\n",
    "tarray=np.arange(time)\n",
    "\n",
    "#total weight due to r!=1\n",
    "weight_sum=0\n",
    "for a in np.arange(1,radius+1):\n",
    "    weight_sum = weight_sum + ((radius-(a-1))*(8*a))\n",
    "\n",
    "#INITIAL CONDITIONS\n",
    "\n",
    "\n",
    "#Distribution of Initial Population\n",
    "\n",
    "tau_list=np.zeros(((x_dim + 2*radius)*(y_dim + 2*radius)), dtype=int)  \n",
    "p_ref=0.5  #initial percentage of refractory population\n",
    "\n",
    "#for k in range ((x_dim + 2*radius)*(y_dim + 2*radius)):\n",
    "#    rand=(np.random.random())\n",
    "#    if(0<=rand<=p_ref):\n",
    "#        rand2=int(np.random.randint(low=1,high=7))\n",
    "#        tau_list[k]=tau_list[k]+rand2+t_i\n",
    "    \n",
    "tau=np.reshape(tau_list,(x_dim+2*radius,y_dim+2*radius))\n",
    "\n",
    "\n",
    "#BOUNDARY CONDITIONS \n",
    "i=0\n",
    "for i in range(radius):                 #All borders of width = (radius) are fixed boundaries.\n",
    "    tau[:,i]=t_i+1\n",
    "    tau[i,:]=t_i+1\n",
    "    tau[:,y_dim+(2*radius-(i+1))]=t_i+1\n",
    "    tau[x_dim+(2*radius-(i+1)),:]=t_i+1\n",
    "\n",
    "tau[(x_dim+2*radius)//3,(y_dim+2*radius)//3]=1     #single infection in the middle\n"
   ]
  },
  {
   "cell_type": "code",
   "execution_count": 97,
   "metadata": {},
   "outputs": [
    {
     "name": "stderr",
     "output_type": "stream",
     "text": [
      "MovieWriter imagemagick unavailable; trying to use <class 'matplotlib.animation.PillowWriter'> instead.\n"
     ]
    },
    {
     "data": {
      "image/png": "[encoded data removed]",
      "text/plain": [
       "<Figure size 432x288 with 2 Axes>"
      ]
     },
     "metadata": {
      "needs_background": "light"
     },
     "output_type": "display_data"
    }
   ],
   "source": [
    "start = timer()\n",
    "fig=plt.figure()\n",
    "state=tau.copy()\n",
    "plt.colorbar(plt.imshow(state, cmap=cmap, interpolation = 'nearest', vmin = 0, vmax = t_i+t_r))\n",
    "ims=[] \n",
    "im=plt.imshow(state, animated=True, cmap = cmap, vmin = 0, vmax = t_i+t_r)\n",
    "ims.append([im])\n",
    "for t in range(time):\n",
    "        \n",
    "    sus,inf,ref=datastats(state, x_dim, y_dim, t_i, t_r, radius)\n",
    "    suslist.append(sus)\n",
    "    inflist.append(inf)\n",
    "    reflist.append(ref)\n",
    "    state_new=propogator(state,x_dim,y_dim,t_i,t_r,det_prob,radius,weight_sum)\n",
    "    state=state_new.copy()\n",
    "    if(t%1==0):\n",
    "        im=plt.imshow(state, animated=True, cmap = cmap, vmin = 0, vmax = t_i+t_r)\n",
    "        ims.append([im])      \n",
    "ani=animation.ArtistAnimation(fig, ims, interval=50, blit=True, repeat_delay=1000)\n",
    "ani.save('SIRSmodel_rand.gif', writer='imagemagick', fps=5)\n",
    "#check for changes on github\n",
    "end = timer()\n"
   ]
  },
  {
   "cell_type": "code",
   "execution_count": 98,
   "metadata": {},
   "outputs": [
    {
     "name": "stdout",
     "output_type": "stream",
     "text": [
      "Runtime   20.996077299998433\n"
     ]
    },
    {
     "data": {
      "image/png": "[encoded data removed]",
      "text/plain": [
       "<Figure size 432x288 with 1 Axes>"
      ]
     },
     "metadata": {
      "needs_background": "light"
     },
     "output_type": "display_data"
    },
    {
     "name": "stdout",
     "output_type": "stream",
     "text": [
      "Susceptible = 5782\n",
      "Infected = 1611\n",
      "Refractory = 2607\n"
     ]
    }
   ],
   "source": [
    "print(\"Runtime  \",end-start)\n",
    "plt.plot(tarray, suslist,'#2ce8c9', label=\"Susceptible\")\n",
    "plt.plot(tarray, inflist,'#f74a4a', label=\"Infected\")\n",
    "plt.plot(tarray, reflist,'#ffd000', label=\"Refractory\")\n",
    "plt.legend(loc=\"upper right\")\n",
    "plt.grid(True)\n",
    "plt.show()\n",
    "print(\"Susceptible =\", suslist[time-1])\n",
    "print(\"Infected =\", inflist[time-1])\n",
    "print(\"Refractory =\", reflist[time-1])"
   ]
  },
  {
   "cell_type": "code",
   "execution_count": null,
   "metadata": {},
   "outputs": [],
   "source": [
    "#for counting number of infected, refractory and susceptible individuals \n",
    "def datastats(state,x_dim, y_dim, t_i,t_r):\n",
    "    inf=0\n",
    "    ref=0\n",
    "    sus=0\n",
    "    for i in np.arange(1,x_dim+1):\n",
    "        for j in np.arange(1,y_dim+1):\n",
    "            if (state[i][j]==0):\n",
    "                sus=sus+1\n",
    "            if (1<=state[i][j]<=t_i):\n",
    "                inf=inf+1\n",
    "            if ((t_i+1)<=state[i][j]<=(t_i+t_r)):\n",
    "                ref=ref+1\n",
    "    \n",
    "    return sus,inf,ref \n",
    "            \n",
    "    "
   ]
  },
  {
   "cell_type": "code",
   "execution_count": 41,
   "metadata": {},
   "outputs": [
    {
     "data": {
      "text/plain": [
       "array([-1,  0,  1])"
      ]
     },
     "execution_count": 41,
     "metadata": {},
     "output_type": "execute_result"
    }
   ],
   "source": [
    "np.arange(-1,2)"
   ]
  },
  {
   "cell_type": "code",
   "execution_count": 43,
   "metadata": {},
   "outputs": [
    {
     "data": {
      "text/plain": [
       "False"
      ]
     },
     "execution_count": 43,
     "metadata": {},
     "output_type": "execute_result"
    }
   ],
   "source": [
    "a=0\n",
    "b=1\n",
    "(a,b)==(0,0)"
   ]
  },
  {
   "cell_type": "code",
   "execution_count": 48,
   "metadata": {},
   "outputs": [
    {
     "data": {
      "text/plain": [
       "2"
      ]
     },
     "execution_count": 48,
     "metadata": {},
     "output_type": "execute_result"
    }
   ],
   "source": [
    "max(abs(-1), abs(-2))"
   ]
  },
  {
   "cell_type": "code",
   "execution_count": null,
   "metadata": {},
   "outputs": [],
   "source": []
  }
 ],
 "metadata": {
  "kernelspec": {
   "display_name": "Python 3",
   "language": "python",
   "name": "python3"
  },
  "language_info": {
   "codemirror_mode": {
    "name": "ipython",
    "version": 3
   },
   "file_extension": ".py",
   "mimetype": "text/x-python",
   "name": "python",
   "nbconvert_exporter": "python",
   "pygments_lexer": "ipython3",
   "version": "3.7.6"
  }
 },
 "nbformat": 4,
 "nbformat_minor": 4
}
