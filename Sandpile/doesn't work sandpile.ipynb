{
 "cells": [
  {
   "cell_type": "code",
   "execution_count": 6,
   "metadata": {},
   "outputs": [],
   "source": [
    "\n",
    "from jupyterthemes import get_themes\n",
    "from jupyterthemes.stylefx import set_nb_theme\n",
    "set_nb_theme('chesterish')\n",
    "\n",
    "from timeit import default_timer as timer\n"
   ]
  },
  {
   "cell_type": "code",
   "execution_count": 24,
   "metadata": {},
   "outputs": [],
   "source": [
    "#Stuff to record-\n",
    "#(1) Distribution of area of toppling affected by one sanddrop. \n",
    "#(2) Dsitribution of time of toppling due to one sanddrop. len(t)\n",
    "#(3) Distribution of number of topplings on adding one sanddrop. (sum over elements of t)\n",
    "\n",
    "\n",
    "\n",
    "\n",
    "def stabilitycheck(grid,dim,z_c):\n",
    "    grid[:,:,1]=0                          #reset all the affected points\n",
    "    s=1\n",
    "    topplings=[]                          #topplings after adding a single grain of sand\n",
    "    while(s!=0):\n",
    "        unstable=[]\n",
    "        for i in range(1,dim+1):\n",
    "            for j in range(1,dim+1):\n",
    "                if(grid[i,j,0]>=z_c):\n",
    "                    unstable.append([i,j])\n",
    "        s=len(unstable)\n",
    "        topplings.append(s)\n",
    "        for x in unstable:\n",
    "            grid[x[0],x[1],0]=grid[x[0],x[1],0]-4\n",
    "            grid[x[0]+1,x[1],0]=grid[x[0]+1,x[1],0]+1\n",
    "            grid[x[0]-1,x[1],0]=grid[x[0]-1,x[1],0]+1\n",
    "            grid[x[0],x[1]+1,0]=grid[x[0],x[1]+1,0]+1\n",
    "            grid[x[0],x[1]-1,0]=grid[x[0],x[1]-1,0]+1\n",
    "            \n",
    "            #Area affected by toppling due to one sand grain.\n",
    "            grid[x[0],x[1],1]=1\n",
    "            grid[x[0]+1,x[1],1]=1\n",
    "            grid[x[0]-1,x[1],1]=1\n",
    "            grid[x[0],x[1]+1,1]=1\n",
    "            grid[x[0],x[1]-1,1]=1\n",
    "        \n",
    "\n",
    "        \n",
    "        grid[:,0,0]=0\n",
    "        grid[0,:,0]=0\n",
    "        grid[:,dim+1,0]=0\n",
    "        grid[dim+1,:,0]=0\n",
    "    #while loop ends\n",
    "    \n",
    "    i,j=1,1\n",
    "    area=0\n",
    "    for i in range(1,dim+1):\n",
    "        for j in range(1,dim+1):\n",
    "            if (grid[i,j,1]==1):\n",
    "                area=area+1\n",
    "    \n",
    "    time=len(topplings)\n",
    "    no_of_topplings=0\n",
    "    for n in (topplings):\n",
    "        no_of_topplings=no_of_topplings+n\n",
    "    \n",
    "    return grid, area, time, no_of_topplings,topplings\n",
    "\n",
    "#len(topplings) is the duration of avalanche.\n"
   ]
  },
  {
   "cell_type": "code",
   "execution_count": 25,
   "metadata": {},
   "outputs": [
    {
     "name": "stdout",
     "output_type": "stream",
     "text": [
      "[[0 0 0 0 0 0 0 0 0 0 0 0 0 0 0 0 0 0 0 0 0 0 0 0 0 0 0]\n",
      " [0 2 1 0 0 1 0 0 1 2 2 0 1 3 1 3 3 0 1 1 3 2 0 1 0 2 0]\n",
      " [0 2 0 0 2 2 1 2 3 2 2 2 3 2 3 3 3 1 3 0 2 3 0 2 1 2 0]\n",
      " [0 0 0 2 0 1 1 2 3 2 1 1 3 3 1 1 1 3 3 3 1 0 3 0 2 0 0]\n",
      " [0 3 2 0 0 3 1 2 2 3 1 2 3 0 1 2 2 0 2 1 3 2 1 0 2 2 0]\n",
      " [0 3 1 0 1 0 2 2 3 1 1 3 2 0 3 0 2 3 2 3 0 3 3 1 3 0 0]\n",
      " [0 0 0 1 2 0 2 1 3 1 0 2 0 2 3 0 3 2 2 3 3 3 0 3 3 2 0]\n",
      " [0 3 2 0 3 3 3 1 2 2 0 0 3 0 1 0 1 2 0 0 1 1 2 0 0 2 0]\n",
      " [0 2 0 3 0 0 3 3 1 1 2 2 3 2 3 3 2 0 3 2 3 1 3 2 1 1 0]\n",
      " [0 0 3 3 3 3 3 2 0 1 0 3 3 2 3 2 2 2 3 3 3 2 3 1 0 3 0]\n",
      " [0 2 1 0 2 1 1 2 1 1 2 0 3 2 0 2 2 0 1 3 0 3 0 3 2 2 0]\n",
      " [0 2 3 3 2 3 2 2 1 1 3 3 2 0 1 0 1 1 3 2 1 0 2 2 1 0 0]\n",
      " [0 2 3 0 3 2 0 3 2 0 2 3 0 1 3 0 2 1 3 1 2 1 0 1 1 2 0]\n",
      " [0 0 1 3 1 2 2 3 3 1 0 1 3 1 0 0 1 2 0 2 2 3 2 2 3 0 0]\n",
      " [0 3 0 2 3 3 2 2 0 2 2 2 3 0 1 0 3 3 2 1 3 2 1 3 1 0 0]\n",
      " [0 0 3 1 2 2 1 0 0 0 3 2 1 2 0 1 2 3 3 1 2 0 1 1 1 1 0]\n",
      " [0 2 0 1 1 0 1 3 2 2 1 1 2 2 2 1 0 1 1 1 2 0 2 1 0 1 0]\n",
      " [0 0 1 0 1 1 2 3 0 3 3 2 2 2 0 2 0 2 2 2 0 0 1 2 1 3 0]\n",
      " [0 2 2 3 1 2 0 2 2 1 0 0 2 0 1 1 3 0 2 0 1 3 3 0 2 3 0]\n",
      " [0 3 0 3 0 2 3 2 0 2 2 0 3 2 2 1 0 0 3 1 2 2 1 3 2 1 0]\n",
      " [0 1 3 2 1 2 2 3 1 2 0 1 1 3 3 3 1 0 1 0 1 3 0 1 1 2 0]\n",
      " [0 3 1 2 3 0 3 2 1 2 3 2 3 1 0 3 3 3 3 2 1 1 2 1 2 3 0]\n",
      " [0 3 0 1 1 2 2 0 3 1 1 3 3 2 2 2 3 1 3 0 1 1 0 3 3 2 0]\n",
      " [0 3 3 2 1 3 0 0 3 1 0 1 0 2 2 0 0 0 2 1 2 0 3 2 0 0 0]\n",
      " [0 1 0 3 3 2 0 0 1 0 0 2 2 1 2 2 1 1 0 2 3 1 1 2 0 3 0]\n",
      " [0 0 1 2 1 1 2 0 1 1 1 0 3 0 0 3 1 3 2 1 3 2 0 0 3 1 0]\n",
      " [0 0 0 0 0 0 0 0 0 0 0 0 0 0 0 0 0 0 0 0 0 0 0 0 0 0 0]]\n",
      "0\n"
     ]
    },
    {
     "data": {
      "text/plain": [
       "<matplotlib.colorbar.Colorbar at 0x246ad3676c8>"
      ]
     },
     "execution_count": 25,
     "metadata": {},
     "output_type": "execute_result"
    },
    {
     "data": {
      "image/png": "[encoded data removed]",
      "text/plain": [
       "<Figure size 432x288 with 2 Axes>"
      ]
     },
     "metadata": {
      "needs_background": "light"
     },
     "output_type": "display_data"
    }
   ],
   "source": [
    "import numpy as np\n",
    "import matplotlib.pyplot as plt\n",
    "\n",
    "dim=25\n",
    "z_c=4\n",
    "grid_1d=np.zeros((dim + 2)*(dim + 2)*2, dtype=int)\n",
    "grid=np.reshape(grid_1d,(dim+2,dim+2,2))\n",
    "for i in range(1, dim+1):\n",
    "    for j in range(1,dim+1):\n",
    "        grid[i,j,0]=int(np.random.random()*4)\n",
    "#Boundary_Conditions\n",
    "grid[:,0,0]=0\n",
    "grid[0,:,0]=0\n",
    "grid[:,dim+1,0]=0\n",
    "grid[dim+1,:,0]=0\n",
    "\n",
    "print(grid[:,:,0])\n",
    "print(grid[dim//2,dim//2,0])\n",
    "\n",
    "plt.imshow(grid[:,:,0],'plasma')\n",
    "plt.colorbar()"
   ]
  },
  {
   "cell_type": "code",
   "execution_count": 26,
   "metadata": {},
   "outputs": [
    {
     "name": "stdout",
     "output_type": "stream",
     "text": [
      "[1, 0]\n",
      "[0]\n",
      "[0]\n",
      "[0]\n",
      "[1, 2, 2, 2, 1, 0]\n",
      "[1, 1, 1, 1, 1, 0]\n",
      "[0]\n",
      "[0]\n",
      "[1, 2, 1, 1, 2, 4, 2, 1, 1, 0]\n",
      "[1, 1, 1, 0]\n",
      "Runtime=  0.04785830000014357\n",
      "[14, 1, 0, 0, 0, 8, 5, 0, 0, 15]\n",
      "[1, 9, 2, 1, 1, 1, 6, 6, 1, 1]\n",
      "[0, 0, 34, 5, 0, 0, 0, 20, 14, 0]\n"
     ]
    }
   ],
   "source": [
    "time=10\n",
    "no_of_topples=[] #append in the proper lists\n",
    "relaxation_time=[]\n",
    "area_of_topple=[]\n",
    "start = timer()\n",
    "for t in range(0,time):\n",
    "    grid_new = stabilitycheck(dropsand(grid,dim),dim,z_c)[0].copy() \n",
    "    area=stabilitycheck(dropsand(grid,dim),dim,z_c)[1]\n",
    "    time=stabilitycheck(dropsand(grid,dim),dim,z_c)[2]\n",
    "    no_of_topplings= stabilitycheck(dropsand(grid,dim),dim,z_c)[3]\n",
    "    print(stabilitycheck(dropsand(grid,dim),dim,z_c)[4])\n",
    "    no_of_topples.append(no_of_topplings)\n",
    "    relaxation_time.append(time)\n",
    "    area_of_topple.append(area)\n",
    "    grid=grid_new.copy()   \n",
    "end = timer()\n",
    "print(\"Runtime= \", end-start)\n",
    "print (no_of_topples)\n",
    "print (relaxation_time)\n",
    "print (area_of_topple)"
   ]
  },
  {
   "cell_type": "code",
   "execution_count": 18,
   "metadata": {},
   "outputs": [
    {
     "name": "stdout",
     "output_type": "stream",
     "text": [
      "8\n",
      "0\n"
     ]
    }
   ],
   "source": [
    "print(area_of_topple[120])\n",
    "print(no_of_topples[120])\n",
    "    "
   ]
  },
  {
   "cell_type": "code",
   "execution_count": 3,
   "metadata": {},
   "outputs": [
    {
     "name": "stdout",
     "output_type": "stream",
     "text": [
      "Reset css and font defaults in:\n",
      "C:\\Users\\kunal\\.jupyter\\custom &\n",
      "C:\\Users\\kunal\\AppData\\Roaming\\jupyter\\nbextensions\n"
     ]
    }
   ],
   "source": [
    "!jt -r"
   ]
  }
 ],
 "metadata": {
  "kernelspec": {
   "display_name": "Python 3",
   "language": "python",
   "name": "python3"
  },
  "language_info": {
   "codemirror_mode": {
    "name": "ipython",
    "version": 3
   },
   "file_extension": ".py",
   "mimetype": "text/x-python",
   "name": "python",
   "nbconvert_exporter": "python",
   "pygments_lexer": "ipython3",
   "version": "3.7.6"
  }
 },
 "nbformat": 4,
 "nbformat_minor": 4
}
